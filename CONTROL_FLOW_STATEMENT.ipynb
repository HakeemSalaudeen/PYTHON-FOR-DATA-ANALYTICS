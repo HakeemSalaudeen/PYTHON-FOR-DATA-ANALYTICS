{
  "nbformat": 4,
  "nbformat_minor": 0,
  "metadata": {
    "colab": {
      "provenance": [],
      "collapsed_sections": [
        "SaWynLDogq7o",
        "_bYlmBOHzWXb",
        "JgyoD8Q1cxwr",
        "RhuMLwJcBUwL",
        "nNcJcEDNJSrq"
      ],
      "authorship_tag": "ABX9TyNfTdgHNTG75fDdrJ4ymngM",
      "include_colab_link": true
    },
    "kernelspec": {
      "name": "python3",
      "display_name": "Python 3"
    },
    "language_info": {
      "name": "python"
    }
  },
  "cells": [
    {
      "cell_type": "markdown",
      "metadata": {
        "id": "view-in-github",
        "colab_type": "text"
      },
      "source": [
        "<a href=\"https://colab.research.google.com/github/HakeemSalaudeen/PYTHON-FOR-DATA-ANALYTICS/blob/main/CONTROL_FLOW_STATEMENT.ipynb\" target=\"_parent\"><img src=\"https://colab.research.google.com/assets/colab-badge.svg\" alt=\"Open In Colab\"/></a>"
      ]
    },
    {
      "cell_type": "markdown",
      "source": [
        "**CONTROL FLOW STATEMENT**"
      ],
      "metadata": {
        "id": "5VrsIXTygeiJ"
      }
    },
    {
      "cell_type": "markdown",
      "source": [
        "# **IF STATEMENT**\n",
        "\n",
        "if condition\n",
        "> *statement *\n",
        "\n",
        "\n",
        "\n",
        "\n",
        "\n"
      ],
      "metadata": {
        "id": "SaWynLDogq7o"
      }
    },
    {
      "cell_type": "code",
      "source": [
        "num1 =20\n",
        "num2 = 40\n",
        "\n",
        "if num1 > num2:\n",
        "  print ('yes')\n",
        "else:\n",
        "  print ('no')"
      ],
      "metadata": {
        "colab": {
          "base_uri": "https://localhost:8080/"
        },
        "id": "qwpUfS19g_NL",
        "outputId": "3f451520-350b-4c54-f35f-9777fe849cc4"
      },
      "execution_count": null,
      "outputs": [
        {
          "output_type": "stream",
          "name": "stdout",
          "text": [
            "no\n"
          ]
        }
      ]
    },
    {
      "cell_type": "code",
      "source": [
        "#using if to check for an item in a list\n",
        "#using IN function\n",
        "\n",
        "listt = [3,3,5,6,78,9,0,6,4,3,5,67]\n",
        "\n",
        "if 67 in listt:\n",
        "  print ('found')\n",
        "else:\n",
        "  print ('not found')\n",
        "\n",
        "if 68 in listt:\n",
        "  print ('found')\n",
        "else:\n",
        "  print ('not found')\n",
        "\n",
        "\n",
        "if 3 in listt:\n",
        "  print ('found')\n",
        "else:\n",
        "  print ('not found')\n"
      ],
      "metadata": {
        "colab": {
          "base_uri": "https://localhost:8080/"
        },
        "id": "5D9696KdjpOG",
        "outputId": "bf6ba3c6-a68c-4a3b-ef9d-5739590d411f"
      },
      "execution_count": null,
      "outputs": [
        {
          "output_type": "stream",
          "name": "stdout",
          "text": [
            "found\n",
            "not found\n",
            "found\n"
          ]
        }
      ]
    },
    {
      "cell_type": "code",
      "source": [
        "passmark = 45\n",
        "score = 60\n",
        "score2 = 32\n",
        "\n",
        "if score > passmark:\n",
        "  print ('pass')\n",
        "else:\n",
        "  print('fail')\n",
        "\n",
        "print ('\\n')\n",
        "\n",
        "if score2 > passmark:\n",
        "  print ('pass')\n",
        "else:\n",
        "  print('fail and try again')\n"
      ],
      "metadata": {
        "colab": {
          "base_uri": "https://localhost:8080/"
        },
        "id": "9xG9Dco4phM4",
        "outputId": "ee3ad453-1b44-44e8-a758-91d6dbe346c1"
      },
      "execution_count": null,
      "outputs": [
        {
          "output_type": "stream",
          "name": "stdout",
          "text": [
            "pass\n",
            "\n",
            "\n",
            "fail and try again\n"
          ]
        }
      ]
    },
    {
      "cell_type": "markdown",
      "source": [
        "# **if, Elif and Else statement**\n",
        "\n",
        "*  we use it to test for multiple conditions\n",
        "\n",
        "\n"
      ],
      "metadata": {
        "id": "_bYlmBOHzWXb"
      }
    },
    {
      "cell_type": "code",
      "source": [
        "#CGPA\n",
        "#3.5 - 4.0 = distinction\n",
        "# 3.0 - 3.49 = upper credit\n",
        "#2.5 - 2.99 = lowwr credit\n",
        "# 2.00 - 2.49 = pass\n",
        "#1.50 - 1.99 = fail\n",
        "\n",
        "score = float (input ('Enter student cgpa: '))\n",
        "if score >= 3.50:\n",
        "  print ('distinction')\n",
        "elif score >= 3.00 and score <= 3.49:\n",
        "  print ('upper credit')\n",
        "elif score >= 2.50 and score <= 2.99:\n",
        "  print ('lowwr credit')\n",
        "elif score >= 2.00 and score <= 4.49:\n",
        "  print ('pass')\n",
        "else:\n",
        "  print ('FAIL')"
      ],
      "metadata": {
        "colab": {
          "base_uri": "https://localhost:8080/"
        },
        "id": "EkgZcIVXzw1O",
        "outputId": "f0fa84c5-6f90-450c-d356-0084ea0445f7"
      },
      "execution_count": null,
      "outputs": [
        {
          "output_type": "stream",
          "name": "stdout",
          "text": [
            "Enter student cgpa: 1.1\n",
            "FAIL\n"
          ]
        }
      ]
    },
    {
      "cell_type": "markdown",
      "source": [
        "**# NESTED IF STATEMENT**\n",
        "\n",
        "* It involves having an if condition within another if condition\n",
        "\n",
        "\n"
      ],
      "metadata": {
        "id": "0nAaKBVKi74Q"
      }
    },
    {
      "cell_type": "code",
      "source": [
        "score = float (input ('Enter student cgpa: '))\n",
        "\n",
        "if score > 4:\n",
        "  print ('cgpa cannot be greater than 4')\n",
        "else:\n",
        "  if score >= 3.50:\n",
        "    print ('distinction')\n",
        "  elif score >= 3.00 and score <= 3.49:\n",
        "    print ('upper credit')\n",
        "  elif score >= 2.50 and score <= 2.99:\n",
        "    print ('lowwr credit')\n",
        "  elif score >= 2.00 and score <= 4.49:\n",
        "    print ('pass')\n",
        "  else:\n",
        "    print ('FAIL')\n",
        "\n"
      ],
      "metadata": {
        "colab": {
          "base_uri": "https://localhost:8080/"
        },
        "id": "0G1z6FAEjWR9",
        "outputId": "f522e1f6-7bba-435f-ad3e-58e0b379b724"
      },
      "execution_count": null,
      "outputs": [
        {
          "output_type": "stream",
          "name": "stdout",
          "text": [
            "Enter student cgpa: 6\n",
            "cgpa cannot be greater than 4\n"
          ]
        }
      ]
    },
    {
      "cell_type": "code",
      "source": [
        "#Example1\n",
        "\n",
        "no1 = 20\n",
        "no2 = 10\n",
        "no3 = 15\n",
        "\n",
        "if no1 >= 20:\n",
        "  if no2 < 15:\n",
        "    if no3 > 10:\n",
        "      print ('yes')\n"
      ],
      "metadata": {
        "colab": {
          "base_uri": "https://localhost:8080/"
        },
        "id": "ApLNgbjmkvLY",
        "outputId": "094d2a8b-7c82-4539-f76c-aefc1430915d"
      },
      "execution_count": null,
      "outputs": [
        {
          "output_type": "stream",
          "name": "stdout",
          "text": [
            "yes\n"
          ]
        }
      ]
    },
    {
      "cell_type": "code",
      "source": [
        "#Example1\n",
        "\n",
        "no1 = 20\n",
        "no2 = 17\n",
        "no3 = 15\n",
        "\n",
        "if no1 >= 20:\n",
        "  if no2 < 15:\n",
        "    print('true')\n",
        "  else:\n",
        "    if no3 > 10:\n",
        "      print ('of course')"
      ],
      "metadata": {
        "colab": {
          "base_uri": "https://localhost:8080/"
        },
        "id": "QfcIt3_mo7ta",
        "outputId": "1549118f-70f0-4521-8488-9e9f761201a8"
      },
      "execution_count": null,
      "outputs": [
        {
          "output_type": "stream",
          "name": "stdout",
          "text": [
            "of course\n"
          ]
        }
      ]
    },
    {
      "cell_type": "markdown",
      "source": [
        "# ***LOGIC OF USERNAME AND PASSWORD ***"
      ],
      "metadata": {
        "id": "JgyoD8Q1cxwr"
      }
    },
    {
      "cell_type": "code",
      "source": [
        "username = 'akym'\n",
        "user_password = 'aaa'\n",
        "\n",
        "name = input ('enter username: ')\n",
        "password = input ('enter password: ')\n",
        "\n",
        "if username == name and user_password == password:\n",
        "  print('welcome')\n",
        "else:\n",
        "  print('error')\n"
      ],
      "metadata": {
        "colab": {
          "base_uri": "https://localhost:8080/"
        },
        "id": "EveUGIvJdFoi",
        "outputId": "6bf3eab8-3ec2-47ed-803b-54910c2a145c"
      },
      "execution_count": null,
      "outputs": [
        {
          "output_type": "stream",
          "name": "stdout",
          "text": [
            "enter username: akym\n",
            "enter password: aaa\n",
            "welcome\n"
          ]
        }
      ]
    },
    {
      "cell_type": "code",
      "source": [
        "list_of_user = []\n",
        "password = ''\n",
        "\n",
        "user = input ('enter your prefered username: ')\n",
        "if user not in list_of_user:\n",
        "  list_of_user.append(user)\n",
        "  password = input ('Enter your password: ')\n",
        "else:\n",
        "  print ('username is already taken')"
      ],
      "metadata": {
        "colab": {
          "base_uri": "https://localhost:8080/"
        },
        "id": "sKu3670qJsAI",
        "outputId": "200a38eb-61a2-4a0a-e8d6-28dfc24f60f7"
      },
      "execution_count": null,
      "outputs": [
        {
          "name": "stdout",
          "output_type": "stream",
          "text": [
            "enter your prefered username: tobi\n",
            "Enter your password: aaa\n"
          ]
        }
      ]
    },
    {
      "cell_type": "code",
      "source": [
        "print (list_of_user)"
      ],
      "metadata": {
        "colab": {
          "base_uri": "https://localhost:8080/"
        },
        "id": "jzV3MNilLD3F",
        "outputId": "49a1baf8-bf72-48b8-c869-f031b6f11da6"
      },
      "execution_count": null,
      "outputs": [
        {
          "output_type": "stream",
          "name": "stdout",
          "text": [
            "['tobi']\n"
          ]
        }
      ]
    },
    {
      "cell_type": "code",
      "source": [
        "login = input ('Enter yes to sign in or no to sign out: ').lower()\n",
        "if login in ['yes', 'y']:\n",
        "  password_check = input ('Enter your password: ')\n",
        "  if password_check == password:\n",
        "    print ('hello world !')\n",
        "  else:\n",
        "    print ('incorrect password')\n",
        "else:\n",
        "  print ('go away')"
      ],
      "metadata": {
        "colab": {
          "base_uri": "https://localhost:8080/"
        },
        "id": "m-K7Uuv3VbVI",
        "outputId": "6ab58209-c5ac-440a-b735-487e7965e6ef"
      },
      "execution_count": null,
      "outputs": [
        {
          "output_type": "stream",
          "name": "stdout",
          "text": [
            "Enter yes to sign in or no to sign out: yes\n",
            "Enter your password: eee\n",
            "incorrect password\n"
          ]
        }
      ]
    },
    {
      "cell_type": "code",
      "source": [
        "users = {}\n",
        "\n",
        "username = input('enter username: ')\n",
        "if username not in user.keys():\n",
        "  users ['user1'] = [username]\n",
        "else:\n",
        "  print (f'(username) is already existing')"
      ],
      "metadata": {
        "id": "tLDjxmZa1G_j"
      },
      "execution_count": null,
      "outputs": []
    },
    {
      "cell_type": "markdown",
      "source": [
        "# **A PYTHON CODE TO FIND IF A NUMBER IS ODD OR EVEN**"
      ],
      "metadata": {
        "id": "LJCYWuXuz2Lj"
      }
    },
    {
      "cell_type": "code",
      "source": [
        "# A PROGRAM TO FIND IF A NUMBER IS ODD OR EVEN\n",
        "\n",
        "number = int(input ('Enter a number: '))\n",
        "if number % 2 == 0:\n",
        "  print(f'\"{number}\" is an Even number')\n",
        "else:\n",
        "  print(f'\"{number}\" is an Odd number')\n",
        "\n",
        "number = int(input ('Enter a number: '))\n",
        "if number % 2 == 0:\n",
        "  print(f'\"{number}\" is an Even number')\n",
        "else:\n",
        "  print(f'\"{number}\" is an Odd number')"
      ],
      "metadata": {
        "colab": {
          "base_uri": "https://localhost:8080/"
        },
        "id": "IFkYsIhUz0Qb",
        "outputId": "1447d362-5855-4e5c-a025-72b3ee4b7295"
      },
      "execution_count": null,
      "outputs": [
        {
          "output_type": "stream",
          "name": "stdout",
          "text": [
            "Enter a number: 6\n",
            "\"6\" is an Even number\n",
            "Enter a number: 7\n",
            "\"7\" is an Odd number\n"
          ]
        }
      ]
    },
    {
      "cell_type": "code",
      "source": [
        "#To make sure the number is less than 2\n",
        "number = int(input ('Enter a number: '))\n",
        "if number < 2:\n",
        "  print ('Number should not be less than 2')\n",
        "else:\n",
        "  if number % 2 == 0:\n",
        "    print(f'\"{number}\" is an Even number')\n",
        "  else:\n",
        "    print(f'\"{number}\" is an Odd number')"
      ],
      "metadata": {
        "colab": {
          "base_uri": "https://localhost:8080/"
        },
        "id": "0XufsUd9CkUu",
        "outputId": "aee4cf93-325e-4f77-97ff-1c9eacf01677"
      },
      "execution_count": null,
      "outputs": [
        {
          "output_type": "stream",
          "name": "stdout",
          "text": [
            "Enter a number: 1\n",
            "Number should not be lewss than 2\n"
          ]
        }
      ]
    },
    {
      "cell_type": "code",
      "source": [
        "## another way\n",
        "\n",
        "#number2 = int(input('Enter a number: '))\n",
        "#result = 'Even' if number2 % 2 == 0 else 'odd'\n",
        "\n",
        "#print ('\"number2\" is an (result) number' )"
      ],
      "metadata": {
        "colab": {
          "base_uri": "https://localhost:8080/"
        },
        "id": "EEGg0gtNQPaJ",
        "outputId": "8be8f0c2-21ae-432e-c319-f1174fedd151"
      },
      "execution_count": null,
      "outputs": [
        {
          "output_type": "stream",
          "name": "stdout",
          "text": [
            "Enter a number: 8\n",
            "\"number2\" is an (result) number\n"
          ]
        }
      ]
    },
    {
      "cell_type": "markdown",
      "source": [
        "# **A PYTHON CODE TO CHECK IF A WORD IS PALLINDROME**"
      ],
      "metadata": {
        "id": "EQfVCiw63ST-"
      }
    },
    {
      "cell_type": "code",
      "source": [
        "#A PYTHON CODE TO CHECK IF A WORD IS PALLINDROME\n",
        "\n",
        "random_word = 'tobie'\n",
        "\n",
        "if random_word == random_word [::-1]:\n",
        "  print(f'\"{random_word}\" is a PALLINDROME')\n",
        "else:\n",
        "  print(f'\"{random_word}\" is not a PALLINDROME')\n",
        "\n",
        "\n",
        "random_word2 = 'civic'\n",
        "\n",
        "if random_word2 == random_word2 [::-1]:\n",
        "  print(f'\"{random_word2}\" is a PALLINDROME')\n",
        "else:\n",
        "  print(f'\"{random_word2}\" is a not PALLINDROME')\n"
      ],
      "metadata": {
        "colab": {
          "base_uri": "https://localhost:8080/"
        },
        "id": "toB6pkNQBRya",
        "outputId": "333c9c63-ae51-4034-bab6-ebdbd3073a79"
      },
      "execution_count": null,
      "outputs": [
        {
          "output_type": "stream",
          "name": "stdout",
          "text": [
            "\"tobie\" is a not PALLINDROME\n",
            "\"civic\" is a PALLINDROME\n"
          ]
        }
      ]
    },
    {
      "cell_type": "markdown",
      "source": [
        "# **SLICING**"
      ],
      "metadata": {
        "id": "RhuMLwJcBUwL"
      }
    },
    {
      "cell_type": "code",
      "source": [
        "# Slicing (PICKING FROM A W=LETTER TO ANOTHER LETTER)\n",
        "random_word = 'tobie'\n",
        "print (random_word [3])                   #to print a word using it index\n",
        "print (random_word [1:3])                 #to pick between the word                # N.B: slicing excludes the last part/figure/item\n",
        "print (random_word [:])                   #to print all the word\n",
        "print (random_word [:-1])                 #to remove the last letteer\n",
        "print (random_word [::-1])                #to reverse it\n",
        "\n",
        "\n",
        "for word in random_word:\n",
        "  print (word)"
      ],
      "metadata": {
        "colab": {
          "base_uri": "https://localhost:8080/"
        },
        "id": "gtBRADv33q4b",
        "outputId": "65768a11-50a7-4214-ef52-dc90a8d70188"
      },
      "execution_count": null,
      "outputs": [
        {
          "output_type": "stream",
          "name": "stdout",
          "text": [
            "i\n",
            "ob\n",
            "tobie\n",
            "tobi\n",
            "eibot\n",
            "t\n",
            "o\n",
            "b\n",
            "i\n",
            "e\n"
          ]
        }
      ]
    },
    {
      "cell_type": "markdown",
      "source": [
        "# **HOW TO SPLIT A SENTENCE INTO WORDS**"
      ],
      "metadata": {
        "id": "nNcJcEDNJSrq"
      }
    },
    {
      "cell_type": "code",
      "source": [
        "sentence = input ('write a sentence: ')\n",
        "sentence = sentence.split ()\n",
        "\n",
        "print (sentence)"
      ],
      "metadata": {
        "colab": {
          "base_uri": "https://localhost:8080/"
        },
        "id": "qVO6vtWMJbvR",
        "outputId": "900b8035-c381-4196-e4a2-c2ffebb41e94"
      },
      "execution_count": null,
      "outputs": [
        {
          "output_type": "stream",
          "name": "stdout",
          "text": [
            "write a sentence: how are you\n",
            "['how', 'are', 'you']\n"
          ]
        }
      ]
    },
    {
      "cell_type": "markdown",
      "source": [
        "# **HOW TO CHECK IF WORDS IN A SENTENCE ARE NOT PALLINDROME**"
      ],
      "metadata": {
        "id": "mB5inOawKjj8"
      }
    },
    {
      "cell_type": "code",
      "source": [
        "#wrong accrording to the you tube video\n",
        "sentence = input ('write a sentence: ')\n",
        "sentence = sentence.split ()\n",
        "\n",
        "for word in sentence:\n",
        "  if sentence == sentence [::-1]:\n",
        "    print(f'\"{sentence}\" is a PALLINDROME')\n",
        "  else:\n",
        "    print(f'\"{sentence}\" is a not PALLINDROME')"
      ],
      "metadata": {
        "colab": {
          "base_uri": "https://localhost:8080/"
        },
        "id": "QyvmoTCRKwDi",
        "outputId": "1fce4234-b791-4e23-b356-eb1248e21b8b"
      },
      "execution_count": null,
      "outputs": [
        {
          "output_type": "stream",
          "name": "stdout",
          "text": [
            "write a sentence: how are you\n",
            "\"['how', 'are', 'you']\" is a not PALLINDROME\n",
            "\"['how', 'are', 'you']\" is a not PALLINDROME\n",
            "\"['how', 'are', 'you']\" is a not PALLINDROME\n"
          ]
        }
      ]
    },
    {
      "cell_type": "code",
      "source": [
        "#right accrording to the you tube video\n",
        "sentence = input ('write a sentence: ')\n",
        "sentence = sentence.split ()\n",
        "\n",
        "for word in sentence:\n",
        "  if sentence == sentence [::-1]:\n",
        "    print(f'\"{word}\" is a PALLINDROME')\n",
        "  else:\n",
        "    print(f'\"{word}\" is a not PALLINDROME')"
      ],
      "metadata": {
        "colab": {
          "base_uri": "https://localhost:8080/"
        },
        "id": "bS7zVtsY92XL",
        "outputId": "843853f1-d8c3-4237-b028-44ea725d9eeb"
      },
      "execution_count": null,
      "outputs": [
        {
          "output_type": "stream",
          "name": "stdout",
          "text": [
            "write a sentence: how are you doing\n",
            "\"how\" is a not PALLINDROME\n",
            "\"are\" is a not PALLINDROME\n",
            "\"you\" is a not PALLINDROME\n",
            "\"doing\" is a not PALLINDROME\n"
          ]
        }
      ]
    }
  ]
}